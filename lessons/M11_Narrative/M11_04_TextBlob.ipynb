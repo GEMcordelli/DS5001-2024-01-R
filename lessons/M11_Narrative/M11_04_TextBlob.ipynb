{
 "cells": [
  {
   "cell_type": "markdown",
   "id": "c5aa95a5-6061-4365-8dab-ea66027ceec4",
   "metadata": {
    "jp-MarkdownHeadingCollapsed": true,
    "tags": []
   },
   "source": [
    "# Metadata\n",
    "\n",
    "```yaml\n",
    "Course:   DS 5001\n",
    "Module:   11 Lab\n",
    "Topc:     TextBlob\n",
    "Author:   R.C. Alvarado\n",
    "Date:     10 April 2024\n",
    "```\n",
    "\n",
    "**Purpose:** Demonstrate use of TextBlob for SA and other tasks."
   ]
  },
  {
   "cell_type": "markdown",
   "id": "fac50f0c-935c-41f7-a0ad-1df29877986c",
   "metadata": {
    "tags": []
   },
   "source": [
    "# Textblob\n",
    "\n",
    "> TextBlob is a Python library for processing textual data. It provides a simple API for diving into common natural language processing (NLP) tasks such as part-of-speech tagging, noun phrase extraction, sentiment analysis, classification, and more.\n",
    "\n",
    "> TextBlob aims to provide access to common text-processing operations through a familiar interface. You can treat TextBlob objects as if they were Python strings that learned how to do Natural Language Processing. \n",
    "\n",
    "[Source](https://textblob.readthedocs.io/en/dev/).\n",
    "\n",
    "TextBlob uses the [Pattern](https://github.com/clips/pattern) library and [SentiWordNet](https://github.com/aesuli/sentiwordnet) lexicon to compute sentiment. \n",
    "\n",
    "It computes average polarity and subjectivity over each word in a given text using a dictionary of adjectives and their hand-tagged scores. \n",
    "\n",
    "The lexicon is [here](https://raw.githubusercontent.com/aesuli/SentiWordNet/master/data/SentiWordNet_3.0.0.txt)."
   ]
  },
  {
   "cell_type": "markdown",
   "id": "fb665b4b-449d-49a4-bf4b-9d57734b7949",
   "metadata": {},
   "source": [
    "# Set Up"
   ]
  },
  {
   "cell_type": "markdown",
   "id": "ec40e0d4-db9e-4019-85cf-691c00d6a951",
   "metadata": {},
   "source": [
    "## Config"
   ]
  },
  {
   "cell_type": "code",
   "execution_count": 1,
   "id": "b791e946-bb3c-4489-a823-7857aad0f689",
   "metadata": {
    "tags": []
   },
   "outputs": [],
   "source": [
    "import configparser\n",
    "config = configparser.ConfigParser()\n",
    "config.read(\"../../../env.ini\")\n",
    "data_home = config['DEFAULT']['data_home']\n",
    "output_dir = config['DEFAULT']['output_dir']\n",
    "local_lib = config['DEFAULT']['local_lib']"
   ]
  },
  {
   "cell_type": "code",
   "execution_count": 2,
   "id": "e454e642-131c-4eb3-acee-e7409a39e930",
   "metadata": {
    "tags": []
   },
   "outputs": [],
   "source": [
    "text_file =  f\"{data_home}/syuzhet/R/persuasion.txt\""
   ]
  },
  {
   "cell_type": "code",
   "execution_count": 3,
   "id": "5c5ae180-bf0a-4f66-a892-a4043937d1eb",
   "metadata": {
    "tags": []
   },
   "outputs": [],
   "source": [
    "import pandas as pd\n",
    "from textblob import Blobber"
   ]
  },
  {
   "cell_type": "markdown",
   "id": "f0fb8952-ad2a-4c96-80c3-ed9c769cd2c2",
   "metadata": {},
   "source": [
    "# Create Object"
   ]
  },
  {
   "cell_type": "code",
   "execution_count": 4,
   "id": "963bfb28-f189-42d2-9ef7-048145b9bc28",
   "metadata": {
    "tags": []
   },
   "outputs": [],
   "source": [
    "blobber = Blobber()"
   ]
  },
  {
   "cell_type": "code",
   "execution_count": 5,
   "id": "1d33c9a0-5bdf-43cd-a1df-3c714dc80e34",
   "metadata": {
    "tags": []
   },
   "outputs": [],
   "source": [
    "TB = blobber(open(text_file, 'r').read())"
   ]
  },
  {
   "cell_type": "markdown",
   "id": "83eba0d6-e305-4b64-a143-4594a917e364",
   "metadata": {},
   "source": [
    "# Extract Tables"
   ]
  },
  {
   "cell_type": "markdown",
   "id": "d30559ed-10f0-4055-a0a7-568b8a46127b",
   "metadata": {},
   "source": [
    "## DOC"
   ]
  },
  {
   "cell_type": "code",
   "execution_count": 6,
   "id": "41bd2a36-da10-4e33-8a27-7baf2b20d58b",
   "metadata": {
    "tags": []
   },
   "outputs": [],
   "source": [
    "DOC = pd.DataFrame(dict(sent_str=[s.raw for s in TB.sentences]))\n",
    "DOC.index.name = 'sent_num'"
   ]
  },
  {
   "cell_type": "code",
   "execution_count": 7,
   "id": "ef75c179-597a-473d-9385-660c6b95f080",
   "metadata": {
    "tags": []
   },
   "outputs": [],
   "source": [
    "DOC['polarity'] = [s.polarity for s in TB.sentences]\n",
    "DOC['subjectivity'] = [s.subjectivity for s in TB.sentences]"
   ]
  },
  {
   "cell_type": "code",
   "execution_count": 8,
   "id": "783f2b65-c629-4dc1-9769-ee5ff8991b57",
   "metadata": {
    "tags": []
   },
   "outputs": [
    {
     "data": {
      "text/html": [
       "<div>\n",
       "<style scoped>\n",
       "    .dataframe tbody tr th:only-of-type {\n",
       "        vertical-align: middle;\n",
       "    }\n",
       "\n",
       "    .dataframe tbody tr th {\n",
       "        vertical-align: top;\n",
       "    }\n",
       "\n",
       "    .dataframe thead th {\n",
       "        text-align: right;\n",
       "    }\n",
       "</style>\n",
       "<table border=\"1\" class=\"dataframe\">\n",
       "  <thead>\n",
       "    <tr style=\"text-align: right;\">\n",
       "      <th></th>\n",
       "      <th>sent_str</th>\n",
       "      <th>polarity</th>\n",
       "      <th>subjectivity</th>\n",
       "    </tr>\n",
       "    <tr>\n",
       "      <th>sent_num</th>\n",
       "      <th></th>\n",
       "      <th></th>\n",
       "      <th></th>\n",
       "    </tr>\n",
       "  </thead>\n",
       "  <tbody>\n",
       "    <tr>\n",
       "      <th>0</th>\n",
       "      <td>Chapter 1\\n\\n\\nSir Walter Elliot, of Kellynch ...</td>\n",
       "      <td>0.057143</td>\n",
       "      <td>0.475866</td>\n",
       "    </tr>\n",
       "    <tr>\n",
       "      <th>1</th>\n",
       "      <td>This\\nwas the page at which the favourite volu...</td>\n",
       "      <td>0.000000</td>\n",
       "      <td>0.000000</td>\n",
       "    </tr>\n",
       "    <tr>\n",
       "      <th>2</th>\n",
       "      <td>\"Walter Elliot, born March 1, 1760, married, J...</td>\n",
       "      <td>0.250000</td>\n",
       "      <td>0.250000</td>\n",
       "    </tr>\n",
       "    <tr>\n",
       "      <th>3</th>\n",
       "      <td>of South Park, in the county of\\nGloucester, b...</td>\n",
       "      <td>0.000000</td>\n",
       "      <td>0.000000</td>\n",
       "    </tr>\n",
       "    <tr>\n",
       "      <th>4</th>\n",
       "      <td>Precisely such had the paragraph originally st...</td>\n",
       "      <td>0.208333</td>\n",
       "      <td>0.500000</td>\n",
       "    </tr>\n",
       "    <tr>\n",
       "      <th>...</th>\n",
       "      <td>...</td>\n",
       "      <td>...</td>\n",
       "      <td>...</td>\n",
       "    </tr>\n",
       "    <tr>\n",
       "      <th>3647</th>\n",
       "      <td>She\\nmight have been absolutely rich and perfe...</td>\n",
       "      <td>0.558333</td>\n",
       "      <td>0.750000</td>\n",
       "    </tr>\n",
       "    <tr>\n",
       "      <th>3648</th>\n",
       "      <td>Her spring of felicity was in the glow of her ...</td>\n",
       "      <td>0.000000</td>\n",
       "      <td>0.000000</td>\n",
       "    </tr>\n",
       "    <tr>\n",
       "      <th>3649</th>\n",
       "      <td>Anne was tenderness\\nitself, and she had the f...</td>\n",
       "      <td>0.325000</td>\n",
       "      <td>0.325000</td>\n",
       "    </tr>\n",
       "    <tr>\n",
       "      <th>3650</th>\n",
       "      <td>His profession was all that could ever make he...</td>\n",
       "      <td>-0.022222</td>\n",
       "      <td>0.230556</td>\n",
       "    </tr>\n",
       "    <tr>\n",
       "      <th>3651</th>\n",
       "      <td>She gloried in being a sailor's wife, but she ...</td>\n",
       "      <td>0.208333</td>\n",
       "      <td>0.525000</td>\n",
       "    </tr>\n",
       "  </tbody>\n",
       "</table>\n",
       "<p>3652 rows × 3 columns</p>\n",
       "</div>"
      ],
      "text/plain": [
       "                                                   sent_str  polarity  \\\n",
       "sent_num                                                                \n",
       "0         Chapter 1\\n\\n\\nSir Walter Elliot, of Kellynch ...  0.057143   \n",
       "1         This\\nwas the page at which the favourite volu...  0.000000   \n",
       "2         \"Walter Elliot, born March 1, 1760, married, J...  0.250000   \n",
       "3         of South Park, in the county of\\nGloucester, b...  0.000000   \n",
       "4         Precisely such had the paragraph originally st...  0.208333   \n",
       "...                                                     ...       ...   \n",
       "3647      She\\nmight have been absolutely rich and perfe...  0.558333   \n",
       "3648      Her spring of felicity was in the glow of her ...  0.000000   \n",
       "3649      Anne was tenderness\\nitself, and she had the f...  0.325000   \n",
       "3650      His profession was all that could ever make he... -0.022222   \n",
       "3651      She gloried in being a sailor's wife, but she ...  0.208333   \n",
       "\n",
       "          subjectivity  \n",
       "sent_num                \n",
       "0             0.475866  \n",
       "1             0.000000  \n",
       "2             0.250000  \n",
       "3             0.000000  \n",
       "4             0.500000  \n",
       "...                ...  \n",
       "3647          0.750000  \n",
       "3648          0.000000  \n",
       "3649          0.325000  \n",
       "3650          0.230556  \n",
       "3651          0.525000  \n",
       "\n",
       "[3652 rows x 3 columns]"
      ]
     },
     "execution_count": 8,
     "metadata": {},
     "output_type": "execute_result"
    }
   ],
   "source": [
    "DOC"
   ]
  },
  {
   "cell_type": "code",
   "execution_count": 9,
   "id": "2f0fb50a-8086-4144-9795-c944f372019c",
   "metadata": {
    "tags": []
   },
   "outputs": [],
   "source": [
    "# TB.sentences[100].ngrams(5) #__dir__()"
   ]
  },
  {
   "cell_type": "markdown",
   "id": "536ca369-faa9-40d4-94d8-8b5c14675153",
   "metadata": {},
   "source": [
    "## TOKEN"
   ]
  },
  {
   "cell_type": "code",
   "execution_count": 10,
   "id": "316e26a2-b6b7-4452-a140-db7fc51b5244",
   "metadata": {
    "tags": []
   },
   "outputs": [],
   "source": [
    "TOKEN = pd.DataFrame(\n",
    "    [(sent_num, token_num, pair[0], pair[1]) \n",
    "     for sent_num, sentence in enumerate(TB.sentences) \n",
    "     for token_num, pair in enumerate(sentence.tags)],\n",
    "    columns=['sent_num', 'token_num', 'token_str', 'pos'])\\\n",
    "    .set_index(['sent_num', 'token_num'])"
   ]
  },
  {
   "cell_type": "code",
   "execution_count": 11,
   "id": "4b619601-2082-4f8d-b1c1-46e89df98e04",
   "metadata": {
    "tags": []
   },
   "outputs": [
    {
     "data": {
      "text/html": [
       "<div>\n",
       "<style scoped>\n",
       "    .dataframe tbody tr th:only-of-type {\n",
       "        vertical-align: middle;\n",
       "    }\n",
       "\n",
       "    .dataframe tbody tr th {\n",
       "        vertical-align: top;\n",
       "    }\n",
       "\n",
       "    .dataframe thead th {\n",
       "        text-align: right;\n",
       "    }\n",
       "</style>\n",
       "<table border=\"1\" class=\"dataframe\">\n",
       "  <thead>\n",
       "    <tr style=\"text-align: right;\">\n",
       "      <th></th>\n",
       "      <th></th>\n",
       "      <th>token_str</th>\n",
       "      <th>pos</th>\n",
       "    </tr>\n",
       "    <tr>\n",
       "      <th>sent_num</th>\n",
       "      <th>token_num</th>\n",
       "      <th></th>\n",
       "      <th></th>\n",
       "    </tr>\n",
       "  </thead>\n",
       "  <tbody>\n",
       "    <tr>\n",
       "      <th rowspan=\"5\" valign=\"top\">0</th>\n",
       "      <th>0</th>\n",
       "      <td>Chapter</td>\n",
       "      <td>NN</td>\n",
       "    </tr>\n",
       "    <tr>\n",
       "      <th>1</th>\n",
       "      <td>1</td>\n",
       "      <td>CD</td>\n",
       "    </tr>\n",
       "    <tr>\n",
       "      <th>2</th>\n",
       "      <td>Sir</td>\n",
       "      <td>NNP</td>\n",
       "    </tr>\n",
       "    <tr>\n",
       "      <th>3</th>\n",
       "      <td>Walter</td>\n",
       "      <td>NNP</td>\n",
       "    </tr>\n",
       "    <tr>\n",
       "      <th>4</th>\n",
       "      <td>Elliot</td>\n",
       "      <td>NNP</td>\n",
       "    </tr>\n",
       "    <tr>\n",
       "      <th>...</th>\n",
       "      <th>...</th>\n",
       "      <td>...</td>\n",
       "      <td>...</td>\n",
       "    </tr>\n",
       "    <tr>\n",
       "      <th rowspan=\"5\" valign=\"top\">3651</th>\n",
       "      <th>32</th>\n",
       "      <td>than</td>\n",
       "      <td>IN</td>\n",
       "    </tr>\n",
       "    <tr>\n",
       "      <th>33</th>\n",
       "      <td>in</td>\n",
       "      <td>IN</td>\n",
       "    </tr>\n",
       "    <tr>\n",
       "      <th>34</th>\n",
       "      <td>its</td>\n",
       "      <td>PRP$</td>\n",
       "    </tr>\n",
       "    <tr>\n",
       "      <th>35</th>\n",
       "      <td>national</td>\n",
       "      <td>JJ</td>\n",
       "    </tr>\n",
       "    <tr>\n",
       "      <th>36</th>\n",
       "      <td>importance</td>\n",
       "      <td>NN</td>\n",
       "    </tr>\n",
       "  </tbody>\n",
       "</table>\n",
       "<p>83830 rows × 2 columns</p>\n",
       "</div>"
      ],
      "text/plain": [
       "                     token_str   pos\n",
       "sent_num token_num                  \n",
       "0        0             Chapter    NN\n",
       "         1                   1    CD\n",
       "         2                 Sir   NNP\n",
       "         3              Walter   NNP\n",
       "         4              Elliot   NNP\n",
       "...                        ...   ...\n",
       "3651     32               than    IN\n",
       "         33                 in    IN\n",
       "         34                its  PRP$\n",
       "         35           national    JJ\n",
       "         36         importance    NN\n",
       "\n",
       "[83830 rows x 2 columns]"
      ]
     },
     "execution_count": 11,
     "metadata": {},
     "output_type": "execute_result"
    }
   ],
   "source": [
    "TOKEN"
   ]
  },
  {
   "cell_type": "code",
   "execution_count": 12,
   "id": "440b8558-3e51-4bfb-b9e2-5ead1113a55e",
   "metadata": {
    "tags": []
   },
   "outputs": [],
   "source": [
    "TOKEN2 = pd.DataFrame(\n",
    "    [(sent_num, token_num, *parse[0]) \n",
    "     for sent_num, sentence in enumerate(TB.sentences) \n",
    "     for token_num, parse in enumerate(sentence.parse().split())],\n",
    "    columns=['sent_num', 'token_num', 'token_str', 'pos', 'parse_tree', 'parse_tree2'])\\\n",
    "    .set_index(['sent_num', 'token_num'])"
   ]
  },
  {
   "cell_type": "code",
   "execution_count": 13,
   "id": "58f7f3e2-d004-4069-918f-3176ec0321c4",
   "metadata": {
    "tags": []
   },
   "outputs": [
    {
     "data": {
      "text/html": [
       "<div>\n",
       "<style scoped>\n",
       "    .dataframe tbody tr th:only-of-type {\n",
       "        vertical-align: middle;\n",
       "    }\n",
       "\n",
       "    .dataframe tbody tr th {\n",
       "        vertical-align: top;\n",
       "    }\n",
       "\n",
       "    .dataframe thead th {\n",
       "        text-align: right;\n",
       "    }\n",
       "</style>\n",
       "<table border=\"1\" class=\"dataframe\">\n",
       "  <thead>\n",
       "    <tr style=\"text-align: right;\">\n",
       "      <th></th>\n",
       "      <th></th>\n",
       "      <th>token_str</th>\n",
       "      <th>pos</th>\n",
       "      <th>parse_tree</th>\n",
       "      <th>parse_tree2</th>\n",
       "    </tr>\n",
       "    <tr>\n",
       "      <th>sent_num</th>\n",
       "      <th>token_num</th>\n",
       "      <th></th>\n",
       "      <th></th>\n",
       "      <th></th>\n",
       "      <th></th>\n",
       "    </tr>\n",
       "  </thead>\n",
       "  <tbody>\n",
       "    <tr>\n",
       "      <th rowspan=\"2\" valign=\"top\">0</th>\n",
       "      <th>0</th>\n",
       "      <td>Chapter</td>\n",
       "      <td>NN</td>\n",
       "      <td>B-NP</td>\n",
       "      <td>O</td>\n",
       "    </tr>\n",
       "    <tr>\n",
       "      <th>1</th>\n",
       "      <td>Sir</td>\n",
       "      <td>NNP</td>\n",
       "      <td>B-NP</td>\n",
       "      <td>O</td>\n",
       "    </tr>\n",
       "    <tr>\n",
       "      <th rowspan=\"2\" valign=\"top\">1</th>\n",
       "      <th>0</th>\n",
       "      <td>This</td>\n",
       "      <td>DT</td>\n",
       "      <td>O</td>\n",
       "      <td>O</td>\n",
       "    </tr>\n",
       "    <tr>\n",
       "      <th>1</th>\n",
       "      <td>\"</td>\n",
       "      <td>\"</td>\n",
       "      <td>O</td>\n",
       "      <td>O</td>\n",
       "    </tr>\n",
       "    <tr>\n",
       "      <th>2</th>\n",
       "      <th>0</th>\n",
       "      <td>\"</td>\n",
       "      <td>\"</td>\n",
       "      <td>O</td>\n",
       "      <td>O</td>\n",
       "    </tr>\n",
       "    <tr>\n",
       "      <th>...</th>\n",
       "      <th>...</th>\n",
       "      <td>...</td>\n",
       "      <td>...</td>\n",
       "      <td>...</td>\n",
       "      <td>...</td>\n",
       "    </tr>\n",
       "    <tr>\n",
       "      <th>3647</th>\n",
       "      <th>0</th>\n",
       "      <td>She</td>\n",
       "      <td>PRP</td>\n",
       "      <td>B-NP</td>\n",
       "      <td>O</td>\n",
       "    </tr>\n",
       "    <tr>\n",
       "      <th>3648</th>\n",
       "      <th>0</th>\n",
       "      <td>Her</td>\n",
       "      <td>PRP$</td>\n",
       "      <td>B-NP</td>\n",
       "      <td>O</td>\n",
       "    </tr>\n",
       "    <tr>\n",
       "      <th>3649</th>\n",
       "      <th>0</th>\n",
       "      <td>Anne</td>\n",
       "      <td>NNP</td>\n",
       "      <td>B-NP</td>\n",
       "      <td>O</td>\n",
       "    </tr>\n",
       "    <tr>\n",
       "      <th>3650</th>\n",
       "      <th>0</th>\n",
       "      <td>His</td>\n",
       "      <td>PRP$</td>\n",
       "      <td>B-NP</td>\n",
       "      <td>O</td>\n",
       "    </tr>\n",
       "    <tr>\n",
       "      <th>3651</th>\n",
       "      <th>0</th>\n",
       "      <td>She</td>\n",
       "      <td>PRP</td>\n",
       "      <td>B-NP</td>\n",
       "      <td>O</td>\n",
       "    </tr>\n",
       "  </tbody>\n",
       "</table>\n",
       "<p>4274 rows × 4 columns</p>\n",
       "</div>"
      ],
      "text/plain": [
       "                   token_str   pos parse_tree parse_tree2\n",
       "sent_num token_num                                       \n",
       "0        0           Chapter    NN       B-NP           O\n",
       "         1               Sir   NNP       B-NP           O\n",
       "1        0              This    DT          O           O\n",
       "         1                 \"     \"          O           O\n",
       "2        0                 \"     \"          O           O\n",
       "...                      ...   ...        ...         ...\n",
       "3647     0               She   PRP       B-NP           O\n",
       "3648     0               Her  PRP$       B-NP           O\n",
       "3649     0              Anne   NNP       B-NP           O\n",
       "3650     0               His  PRP$       B-NP           O\n",
       "3651     0               She   PRP       B-NP           O\n",
       "\n",
       "[4274 rows x 4 columns]"
      ]
     },
     "execution_count": 13,
     "metadata": {},
     "output_type": "execute_result"
    }
   ],
   "source": [
    "TOKEN2"
   ]
  },
  {
   "cell_type": "code",
   "execution_count": 14,
   "id": "c381a3a7-2d83-4405-b249-c0683eee9e06",
   "metadata": {
    "tags": []
   },
   "outputs": [
    {
     "data": {
      "text/plain": [
       "parse_tree\n",
       "B-NP      2196\n",
       "O         1459\n",
       "B-PP       253\n",
       "B-VP       180\n",
       "B-ADVP     152\n",
       "B-ADJP      34\n",
       "Name: count, dtype: int64"
      ]
     },
     "execution_count": 14,
     "metadata": {},
     "output_type": "execute_result"
    }
   ],
   "source": [
    "TOKEN2.parse_tree.value_counts()"
   ]
  },
  {
   "cell_type": "code",
   "execution_count": 15,
   "id": "fe70c27f-e22d-4702-9864-22b42c57bb6e",
   "metadata": {
    "tags": []
   },
   "outputs": [
    {
     "data": {
      "text/html": [
       "<div>\n",
       "<style scoped>\n",
       "    .dataframe tbody tr th:only-of-type {\n",
       "        vertical-align: middle;\n",
       "    }\n",
       "\n",
       "    .dataframe tbody tr th {\n",
       "        vertical-align: top;\n",
       "    }\n",
       "\n",
       "    .dataframe thead th {\n",
       "        text-align: right;\n",
       "    }\n",
       "</style>\n",
       "<table border=\"1\" class=\"dataframe\">\n",
       "  <thead>\n",
       "    <tr style=\"text-align: right;\">\n",
       "      <th>parse_tree2</th>\n",
       "      <th>B-PNP</th>\n",
       "      <th>O</th>\n",
       "    </tr>\n",
       "    <tr>\n",
       "      <th>parse_tree</th>\n",
       "      <th></th>\n",
       "      <th></th>\n",
       "    </tr>\n",
       "  </thead>\n",
       "  <tbody>\n",
       "    <tr>\n",
       "      <th>B-ADJP</th>\n",
       "      <td>0</td>\n",
       "      <td>34</td>\n",
       "    </tr>\n",
       "    <tr>\n",
       "      <th>B-ADVP</th>\n",
       "      <td>0</td>\n",
       "      <td>152</td>\n",
       "    </tr>\n",
       "    <tr>\n",
       "      <th>B-NP</th>\n",
       "      <td>0</td>\n",
       "      <td>2196</td>\n",
       "    </tr>\n",
       "    <tr>\n",
       "      <th>B-PP</th>\n",
       "      <td>208</td>\n",
       "      <td>45</td>\n",
       "    </tr>\n",
       "    <tr>\n",
       "      <th>B-VP</th>\n",
       "      <td>0</td>\n",
       "      <td>180</td>\n",
       "    </tr>\n",
       "    <tr>\n",
       "      <th>O</th>\n",
       "      <td>0</td>\n",
       "      <td>1459</td>\n",
       "    </tr>\n",
       "  </tbody>\n",
       "</table>\n",
       "</div>"
      ],
      "text/plain": [
       "parse_tree2  B-PNP     O\n",
       "parse_tree              \n",
       "B-ADJP           0    34\n",
       "B-ADVP           0   152\n",
       "B-NP             0  2196\n",
       "B-PP           208    45\n",
       "B-VP             0   180\n",
       "O                0  1459"
      ]
     },
     "execution_count": 15,
     "metadata": {},
     "output_type": "execute_result"
    }
   ],
   "source": [
    "TOKEN2.value_counts(['parse_tree', 'parse_tree2']).unstack(fill_value=0)"
   ]
  },
  {
   "cell_type": "code",
   "execution_count": 16,
   "id": "6d776c02-f76c-4f8c-91f1-184a84b42d7a",
   "metadata": {
    "tags": []
   },
   "outputs": [],
   "source": [
    "TOKEN['term_str'] = TOKEN.token_str.str.replace(r\"\\W\", \"\").str.lower().str.strip()"
   ]
  },
  {
   "cell_type": "code",
   "execution_count": 17,
   "id": "42b99cdf-de6f-48d7-8c3d-dce68ebd6007",
   "metadata": {
    "tags": []
   },
   "outputs": [
    {
     "data": {
      "text/html": [
       "<div>\n",
       "<style scoped>\n",
       "    .dataframe tbody tr th:only-of-type {\n",
       "        vertical-align: middle;\n",
       "    }\n",
       "\n",
       "    .dataframe tbody tr th {\n",
       "        vertical-align: top;\n",
       "    }\n",
       "\n",
       "    .dataframe thead th {\n",
       "        text-align: right;\n",
       "    }\n",
       "</style>\n",
       "<table border=\"1\" class=\"dataframe\">\n",
       "  <thead>\n",
       "    <tr style=\"text-align: right;\">\n",
       "      <th></th>\n",
       "      <th></th>\n",
       "      <th>token_str</th>\n",
       "      <th>pos</th>\n",
       "      <th>term_str</th>\n",
       "    </tr>\n",
       "    <tr>\n",
       "      <th>sent_num</th>\n",
       "      <th>token_num</th>\n",
       "      <th></th>\n",
       "      <th></th>\n",
       "      <th></th>\n",
       "    </tr>\n",
       "  </thead>\n",
       "  <tbody>\n",
       "    <tr>\n",
       "      <th rowspan=\"5\" valign=\"top\">0</th>\n",
       "      <th>0</th>\n",
       "      <td>Chapter</td>\n",
       "      <td>NN</td>\n",
       "      <td>chapter</td>\n",
       "    </tr>\n",
       "    <tr>\n",
       "      <th>1</th>\n",
       "      <td>1</td>\n",
       "      <td>CD</td>\n",
       "      <td>1</td>\n",
       "    </tr>\n",
       "    <tr>\n",
       "      <th>2</th>\n",
       "      <td>Sir</td>\n",
       "      <td>NNP</td>\n",
       "      <td>sir</td>\n",
       "    </tr>\n",
       "    <tr>\n",
       "      <th>3</th>\n",
       "      <td>Walter</td>\n",
       "      <td>NNP</td>\n",
       "      <td>walter</td>\n",
       "    </tr>\n",
       "    <tr>\n",
       "      <th>4</th>\n",
       "      <td>Elliot</td>\n",
       "      <td>NNP</td>\n",
       "      <td>elliot</td>\n",
       "    </tr>\n",
       "    <tr>\n",
       "      <th>...</th>\n",
       "      <th>...</th>\n",
       "      <td>...</td>\n",
       "      <td>...</td>\n",
       "      <td>...</td>\n",
       "    </tr>\n",
       "    <tr>\n",
       "      <th rowspan=\"5\" valign=\"top\">3651</th>\n",
       "      <th>32</th>\n",
       "      <td>than</td>\n",
       "      <td>IN</td>\n",
       "      <td>than</td>\n",
       "    </tr>\n",
       "    <tr>\n",
       "      <th>33</th>\n",
       "      <td>in</td>\n",
       "      <td>IN</td>\n",
       "      <td>in</td>\n",
       "    </tr>\n",
       "    <tr>\n",
       "      <th>34</th>\n",
       "      <td>its</td>\n",
       "      <td>PRP$</td>\n",
       "      <td>its</td>\n",
       "    </tr>\n",
       "    <tr>\n",
       "      <th>35</th>\n",
       "      <td>national</td>\n",
       "      <td>JJ</td>\n",
       "      <td>national</td>\n",
       "    </tr>\n",
       "    <tr>\n",
       "      <th>36</th>\n",
       "      <td>importance</td>\n",
       "      <td>NN</td>\n",
       "      <td>importance</td>\n",
       "    </tr>\n",
       "  </tbody>\n",
       "</table>\n",
       "<p>83830 rows × 3 columns</p>\n",
       "</div>"
      ],
      "text/plain": [
       "                     token_str   pos    term_str\n",
       "sent_num token_num                              \n",
       "0        0             Chapter    NN     chapter\n",
       "         1                   1    CD           1\n",
       "         2                 Sir   NNP         sir\n",
       "         3              Walter   NNP      walter\n",
       "         4              Elliot   NNP      elliot\n",
       "...                        ...   ...         ...\n",
       "3651     32               than    IN        than\n",
       "         33                 in    IN          in\n",
       "         34                its  PRP$         its\n",
       "         35           national    JJ    national\n",
       "         36         importance    NN  importance\n",
       "\n",
       "[83830 rows x 3 columns]"
      ]
     },
     "execution_count": 17,
     "metadata": {},
     "output_type": "execute_result"
    }
   ],
   "source": [
    "TOKEN"
   ]
  },
  {
   "cell_type": "markdown",
   "id": "9861c83e-e928-42b0-90a1-b8abe3a81379",
   "metadata": {},
   "source": [
    "## VOCAB"
   ]
  },
  {
   "cell_type": "code",
   "execution_count": 18,
   "id": "b1c88fb9-5545-4446-afaf-7de8ce841b1f",
   "metadata": {
    "tags": []
   },
   "outputs": [],
   "source": [
    "VOCAB = pd.DataFrame(TB.word_counts.items(), columns=['term_str', 'n']).set_index('term_str')"
   ]
  },
  {
   "cell_type": "code",
   "execution_count": 19,
   "id": "732a4c60-37d3-4519-806e-549094fc79c1",
   "metadata": {
    "tags": []
   },
   "outputs": [
    {
     "data": {
      "text/html": [
       "<div>\n",
       "<style scoped>\n",
       "    .dataframe tbody tr th:only-of-type {\n",
       "        vertical-align: middle;\n",
       "    }\n",
       "\n",
       "    .dataframe tbody tr th {\n",
       "        vertical-align: top;\n",
       "    }\n",
       "\n",
       "    .dataframe thead th {\n",
       "        text-align: right;\n",
       "    }\n",
       "</style>\n",
       "<table border=\"1\" class=\"dataframe\">\n",
       "  <thead>\n",
       "    <tr style=\"text-align: right;\">\n",
       "      <th></th>\n",
       "      <th>n</th>\n",
       "    </tr>\n",
       "    <tr>\n",
       "      <th>term_str</th>\n",
       "      <th></th>\n",
       "    </tr>\n",
       "  </thead>\n",
       "  <tbody>\n",
       "    <tr>\n",
       "      <th>chapter</th>\n",
       "      <td>24</td>\n",
       "    </tr>\n",
       "    <tr>\n",
       "      <th>1</th>\n",
       "      <td>3</td>\n",
       "    </tr>\n",
       "    <tr>\n",
       "      <th>sir</th>\n",
       "      <td>149</td>\n",
       "    </tr>\n",
       "    <tr>\n",
       "      <th>walter</th>\n",
       "      <td>138</td>\n",
       "    </tr>\n",
       "    <tr>\n",
       "      <th>elliot</th>\n",
       "      <td>286</td>\n",
       "    </tr>\n",
       "    <tr>\n",
       "      <th>...</th>\n",
       "      <td>...</td>\n",
       "    </tr>\n",
       "    <tr>\n",
       "      <th>supplies</th>\n",
       "      <td>1</td>\n",
       "    </tr>\n",
       "    <tr>\n",
       "      <th>defiance</th>\n",
       "      <td>1</td>\n",
       "    </tr>\n",
       "    <tr>\n",
       "      <th>accessions</th>\n",
       "      <td>1</td>\n",
       "    </tr>\n",
       "    <tr>\n",
       "      <th>sunshine</th>\n",
       "      <td>1</td>\n",
       "    </tr>\n",
       "    <tr>\n",
       "      <th>national</th>\n",
       "      <td>1</td>\n",
       "    </tr>\n",
       "  </tbody>\n",
       "</table>\n",
       "<p>5930 rows × 1 columns</p>\n",
       "</div>"
      ],
      "text/plain": [
       "              n\n",
       "term_str       \n",
       "chapter      24\n",
       "1             3\n",
       "sir         149\n",
       "walter      138\n",
       "elliot      286\n",
       "...         ...\n",
       "supplies      1\n",
       "defiance      1\n",
       "accessions    1\n",
       "sunshine      1\n",
       "national      1\n",
       "\n",
       "[5930 rows x 1 columns]"
      ]
     },
     "execution_count": 19,
     "metadata": {},
     "output_type": "execute_result"
    }
   ],
   "source": [
    "VOCAB"
   ]
  },
  {
   "cell_type": "markdown",
   "id": "d22bb627-10f8-4b8d-88b2-ec6827594511",
   "metadata": {},
   "source": [
    "# Sentiment"
   ]
  },
  {
   "cell_type": "code",
   "execution_count": 20,
   "id": "0cc5a7ad-4c8c-41d3-aa06-0297d006586f",
   "metadata": {
    "tags": []
   },
   "outputs": [],
   "source": [
    "from pyzhet import SyuzhetBook, Transforms"
   ]
  },
  {
   "cell_type": "code",
   "execution_count": 21,
   "id": "d9673987-ab30-4f45-b56d-da47fdcc14e5",
   "metadata": {
    "tags": []
   },
   "outputs": [
    {
     "data": {
      "image/png": "[encoded data removed]",
      "text/plain": [
       "<Figure size 2500x500 with 1 Axes>"
      ]
     },
     "metadata": {},
     "output_type": "display_data"
    }
   ],
   "source": [
    "SyuzhetBook(DOC.polarity, 'Persuasion').plot_smooth(low_pass_size=6)"
   ]
  }
 ],
 "metadata": {
  "kernelspec": {
   "display_name": "eta",
   "language": "python",
   "name": "eta"
  },
  "language_info": {
   "codemirror_mode": {
    "name": "ipython",
    "version": 3
   },
   "file_extension": ".py",
   "mimetype": "text/x-python",
   "name": "python",
   "nbconvert_exporter": "python",
   "pygments_lexer": "ipython3",
   "version": "3.9.19"
  }
 },
 "nbformat": 4,
 "nbformat_minor": 5
}
